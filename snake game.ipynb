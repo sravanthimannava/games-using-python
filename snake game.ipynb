{
 "cells": [
  {
   "cell_type": "code",
   "execution_count": null,
   "id": "9e6c08fb",
   "metadata": {},
   "outputs": [
    {
     "name": "stdout",
     "output_type": "stream",
     "text": [
      "Snake: 2\n",
      "Snake: 3\n",
      "Snake: 4\n",
      "Snake: 5\n",
      "Snake: 6\n"
     ]
    }
   ],
   "source": [
    "from turtle import*\n",
    "from random import randrange\n",
    "from freegames import square, vector\n",
    "food=vector(0,0)\n",
    "snake=[vector(10,0)]\n",
    "aim=vector(0,-10)\n",
    "def change(x,y):\n",
    "    \"change snake direction\"\n",
    "    aim.x = x\n",
    "    aim.y = y\n",
    "def inside(head):\n",
    "    \"Return True if head inside boundaries\"\n",
    "    return -200<head.x<190 and -200<head.y<190\n",
    "def move():\n",
    "    \"Move snake forward one segment\"\n",
    "    head=snake[-1].copy()\n",
    "    head.move(aim)\n",
    "    if not inside(head) or head in snake:\n",
    "        square(head.x,head.y,9,'red')\n",
    "        update()\n",
    "        return\n",
    "    snake.append(head)\n",
    "    if head==food:\n",
    "        print('Snake:',len(snake))\n",
    "        food.x=randrange(-15,15)*10\n",
    "        food.y=randrange(-15,15)*10\n",
    "    else:\n",
    "        snake.pop(0)\n",
    "    clear()\n",
    "    \n",
    "    for body in snake:\n",
    "        square(body.x,body.y,9,'green')\n",
    "    square(food.x,food.y,9,'red')\n",
    "    update()\n",
    "    ontimer(move,100)\n",
    "#setup(420, 420, 370, 0)    \n",
    "hideturtle()\n",
    "tracer(False)\n",
    "listen()\n",
    "onkey(lambda: change(10,0),'Right')\n",
    "onkey(lambda: change(-10,0),'Left')\n",
    "onkey(lambda: change(0,10),'Up')\n",
    "onkey(lambda: change(0,-10),'Down')\n",
    "move()\n",
    "done()"
   ]
  },
  {
   "cell_type": "code",
   "execution_count": 26,
   "id": "e1698939",
   "metadata": {},
   "outputs": [],
   "source": []
  },
  {
   "cell_type": "code",
   "execution_count": null,
   "id": "91e63563",
   "metadata": {},
   "outputs": [],
   "source": []
  }
 ],
 "metadata": {
  "kernelspec": {
   "display_name": "Python 3",
   "language": "python",
   "name": "python3"
  },
  "language_info": {
   "codemirror_mode": {
    "name": "ipython",
    "version": 3
   },
   "file_extension": ".py",
   "mimetype": "text/x-python",
   "name": "python",
   "nbconvert_exporter": "python",
   "pygments_lexer": "ipython3",
   "version": "3.9.4"
  }
 },
 "nbformat": 4,
 "nbformat_minor": 5
}
